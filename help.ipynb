{
 "cells": [
  {
   "cell_type": "markdown",
   "id": "64e6be90-7310-4034-b403-246ec4dffee5",
   "metadata": {},
   "source": [
    "<div align=\"center\" style=\"direction:rtl; line-height:300%;\">\n",
    "    <font face=\"B Nazanin\" size=\"12\"><b>به نام خدا<b></font>\n",
    "    <br>\n",
    "    <img src=\"logo.png\" alt=\"لوگو\" style=\"width:250px; height:auto;\">\n",
    "    <br>\n",
    "    <font face=\"B Nazanin\" size=\"5\"><b>دانشگاه صنعتی شریف</b></font>\n",
    "    <br><br>\n",
    "    <font face=\"B Nazanin\" size=\"5\"><b>پردازش زبان‌های طبیعی<b></font>\n",
    "    <br><br>\n",
    "    <font face=\"B Nazanin\" size=\"5\">استاد: جناب آقای دکتر عسگری</font>\n",
    "    <br><br>\n",
    "    <font face=\"B Nazanin\" size=\"5\">دانشجویان: سینا قاسمی، محمد شیرخانی، زهرا میرزائی</font>\n",
    "    <br><br>\n",
    "    <font face=\"B Nazanin\" size=\"5\">بهار 1403</font>\n",
    "    <br><br>\n",
    "    <hr>\n",
    "    <font face=\"B Nazanin\" size=\"5\">تکلیف دوم - استخراج اطلاعات قاعده محور با عبارات منظم</font>\n",
    "</div>\n"
   ]
  },
  {
   "cell_type": "markdown",
   "id": "c8085f17",
   "metadata": {},
   "source": [
    "<div style=\"direction:rtl;line-height:300%;\"><font face=\"B Zar\" size=5>\n",
    "<font color=#ff6600><h3>\n",
    "مدیریت رویدادها و وقایع<br/></h3>\n",
    "</font>\n",
    "در این تمرین یک دستیار برای مدیریت رویدادها و وقایع با توانایی افزودن تسک، به‌روزرسانی، لغو و مشاهده‌ی کارهای ثبت‌شده توسعه داده می‌شود. در ابتدا برای مدیریت تاریخ، کتابخانه‌ی <a href=\"https://pypi.org/project/persiantools/#:~:text=Provides%20Jalali%20\">ابزارهای فارسی </a> را نصب می‌کنیم.\n",
    "توجه شود که امکان استفاده از دیتابیس PostgreSQL نیز فراهم است که باید تغییراتی در کد صورت بگیرد.\n",
    "با توجه به اینکه در صورت تمرین در خصوص مدت زمان برنامه‌ریزی برای محاسبه‌ی تسک‌های دوره‌ای صحبتی نشده، مقدار 60 روز انتخاب شده است که می‌توان بعدا به صورت پارامتر به مدل ارائه داد.\n",
    "<p></p>\n",
    "</font>\n",
    "</div>"
   ]
  },
  {
   "cell_type": "markdown",
   "id": "5eac138a-a632-46f9-b24a-4042fc54b5b5",
   "metadata": {},
   "source": [
    "<div style=\"direction:rtl; line-height:2.5; font-family:'B Zar'; font-size:20px;\">\r\n",
    "    <font color=\"#ff6600\">\r\n",
    "    <h3>بخش های مربوط به معماری پروژه:</h3>\r\n",
    "    </font>\r\n",
    "</div>\r\n",
    "<p>\r\n",
    "<div dir=\"rtl\" style=\"font-family:'B Zar'; font-size:20px;\">\r\n",
    "    1- بخش مربوط به بات با استفاده از پکیج opsdroid\r\n",
    "</div>\r\n",
    "</p>\r\n",
    "<p>\r\n",
    "<div dir=\"rtl\" style=\"font-family:'B Zar'; font-size:20px;\">\r\n",
    "    2- پایگاه داده Postgresql\r\n",
    "</div>\r\n",
    "</p>\r\n",
    "<p>\r\n",
    "<div dir=\"rtl\" style=\"font-family:'B Zar'; font-size:20px;\">\r\n",
    "    3- پیش پردازش متن فارسی با استفاده از کتابخانه hazm\r\n",
    "</div>\r\n",
    "</p>\r\n",
    "<p>\r\n",
    "<div dir=\"rtl\" style=\"font-family:'B Zar'; font-size:20px;\">\r\n",
    "    4- تعریف pattern ها مبتنی بر نیاز پروژه\r\n",
    "</div>\r\n",
    "</p>\r\n",
    "<p>\r\n",
    "<div dir=\"rtl\" style=\"font-family:'B Zar'; font-size:20px;\">\r\n",
    "    5- استخراج نتایج با اعمال الگوها بر داده ها (اتصال پایگاه داده به کد استخراج الگوها)\r\n",
    "</div>\r\n",
    "</p>\r\n",
    "<p>\r\n",
    "<div dir=\"rtl\" style=\"font-family:'B Zar'; font-size:20px;\">\r\n",
    "    6- مشاهده نتایج حاصل از اجرای کدها\r\n",
    "</div>\r\n",
    "</p>"
   ]
  },
  {
   "cell_type": "markdown",
   "id": "61ee8aad-31f8-477e-9b0a-29e77b941e2e",
   "metadata": {},
   "source": [
    "<div style=\"direction:rtl; line-height:2.5; font-family:'B Zar'; font-size:20px;\">\n",
    "</div>\n",
    "<p>\n",
    "<div dir=\"rtl\" style=\"font-family:'B Zar'; font-size:20px;\">\n",
    "    حال به شرح مختصری از هر بخش می پردازیم:\n",
    "</div>\n",
    "</p>\n",
    "<p>\n",
    "<div dir=\"rtl\" style=\"font-family:'B Zar'; font-size:20px;\">\n",
    "<font color=#ff6600><h3>\n",
    "    1-\tپیاده سازی بات با استفاده از پکیج opsdroid <br/></h3>\n",
    "    </font>\n",
    "</div>\n",
    "</p>\n",
    "<p>\n",
    "<div dir=\"rtl\" style=\"font-family:'B Zar'; font-size:20px;\">\n",
    "    کتابخانه Opsdroid یک چارچوب چت بات منبع باز است که با زبان پایتون نوشته شده است. هدف Opsdroid انعطاف‌پذیری است و به توسعه‌دهندگان اجازه می‌دهد تا به جای پرداختن به پیچیدگی‌های رابط با پلتفرم‌های پیام‌رسان مختلف، روی نوشتن منطق مکالمه تمرکز کنند.\n",
    "</div>\n",
    "</p>\n",
    "<p>\n",
    "<div dir=\"rtl\" style=\"font-family:'B Zar'; font-size:20px;\">\n",
    "    برای استفاده از این پکیج ابتدا آن را روی محیط اجرای کد نصب می کنیم.\n",
    "pip install opsdroid\n",
    "\n",
    "</div>\n",
    "</p>\n",
    "<p>\n",
    "<div dir=\"rtl\" style=\"font-family:'B Zar'; font-size:20px;\">\n",
    "    همچنینن یک فایل yaml برای ایجاد کانقیگ مربوط به بات ایجاد می کنیم به نام configuration.yaml.\n",
    "</div>\n",
    "</p>\n",
    "<p>\n",
    "<div dir=\"rtl\" style=\"font-family:'B Zar'; font-size:20px;\">\n",
    "    Opsdroid از skills.py برای تعریف نحوه پاسخ ربات به رویدادها یا پیام های مختلف استفاده می کند. Skills ماژول های پایتون هستند که می توانند به پیام های دریافتی گوش دهند، آنها را پردازش کنند و پاسخ ها را ارسال کنند.\n",
    "</div>\n",
    "</p>"
   ]
  },
  {
   "cell_type": "markdown",
   "id": "f7c9f753-314b-4beb-85b3-aae01a6a44fa",
   "metadata": {},
   "source": [
    "<div style=\"direction:rtl; line-height:2.5; font-family:'B Zar'; font-size:20px;\">\n",
    "</div>\n",
    "<p>\n",
    "<div dir=\"rtl\" style=\"font-family:'B Zar'; font-size:20px;\">\n",
    "<font color=#ff6600><h3>\n",
    "    2-\tپایگاه داده Postgresql <br/></h3>\n",
    "    </font>\n",
    "</div>\n",
    "</p>\n",
    "<p>\n",
    "<div dir=\"rtl\" style=\"font-family:'B Zar'; font-size:20px;\">\n",
    "    Psycopg2 یک آداپتور محبوب PostgreSQL برای پایتون است. برای تعامل با پایگاه داده PostgreSQL از کد پایتون استفاده می شود. هنگامی که شما آن را به عنوان ORM (نگاشت رابطه ای شی) ذکر می کنیم که ORM از Psycopg2 در زیر سرپوش برای برقراری ارتباط با پایگاه داده PostgreSQL استفاده می کند. ها ابزارهایی هستند که اشیاء را در زبان های برنامه نویسی شی گرا به جداول در پایگاه داده های رابطه ای نگاشت می کنند. آنها با نوشتن پرس و جوهای SQL با اجازه دادن به کد برای تعامل با پایگاه داده با استفاده از کلاس‌ها و اشیاء پایتون استقاده می شوند در کد ORM که از Psycopg2 استفاده می کند، معمولاً دیگر نیازی به تعامل مستقیم با توابع Psycopg2 نداریم. در عوض، ORM این تعاملات را برای ما مدیریت می کند.\n",
    "</div>\n",
    "</p>\n",
    "<p>\n",
    "<div dir=\"rtl\" style=\"font-family:'B Zar'; font-size:20px;\">\n",
    "    کد موجود در orm.py یک پیاده سازی ساده از یک سیستم مدیریت وظیفه را با استفاده از پایگاه داده PostgreSQL از طریق کتابخانه psycopg2 نشان می دهد. در اینجا یک نمای کلی از اجزا و عملکردهای مختلف آورده شده است:\n",
    "</div>\n",
    "</p>\n",
    "<p>\n",
    "<div dir=\"rtl\" style=\"font-family:'B Zar'; font-size:20px;\">\n",
    "    2-1 اتصال پایگاه داده و ایجاد جدول:\n",
    "کلاس TaskDB یک اتصال به پایگاه داده PostgreSQL به نام 'nlp' را که بر روی لوکال هاست با اعتبار دسترسی پیش فرض اجرا می شود، مقداردهی اولیه می کند. اگر جدولی با نام tasks وجود نداشته باشد، ایجاد می کند. این جدول دارای ستون هایی برای ویژگی های کار مانند name، time، date، period، done و cancel است.\n",
    "</div>\n",
    "</p>\n",
    "<p>\n",
    "<div dir=\"rtl\" style=\"font-family:'B Zar'; font-size:20px;\">\n",
    "    2-2  قالب بندی داده ها:\n",
    "فرمت‌های تابع json_formater داده‌های تسک را با کلیدهای خاصی مانند ، 'name'، 'time' و غیره در یک دیکشنری بازیابی می‌کند.\n",
    "</div>\n",
    "</p>\n",
    "<p>\n",
    "<div dir=\"rtl\" style=\"font-family:'B Zar'; font-size:20px;\">\n",
    "    2-3 عملیات CRUD:\n",
    "</div>\n",
    "</p>\n",
    "<p>\n",
    "<div dir=\"rtl\" style=\"font-family:'B Zar'; font-size:20px;\">\n",
    "    create_task: وظیفه جدیدی را در پایگاه داده وارد می کند.\n",
    "</div>\n",
    "</p>\n",
    "<p>\n",
    "<div dir=\"rtl\" style=\"font-family:'B Zar'; font-size:20px;\">\n",
    "    find_all: تمام وظایف ذخیره شده در پایگاه داده را بازیابی و قالب بندی می کند.\n",
    "</div>\n",
    "</p>\n",
    "<p>\n",
    "<div dir=\"rtl\" style=\"font-family:'B Zar'; font-size:20px;\">\n",
    "    find_task: یک کار را بر اساس پارامترهای ارائه شده مانند نام، زمان و تاریخ جستجو و بازیابی می کند.\n",
    "</div>\n",
    "</p>\n",
    "<p>\n",
    "<div dir=\"rtl\" style=\"font-family:'B Zar'; font-size:20px;\">\n",
    "    update_task: ویژگی های یک کار موجود را با مقادیر جدید به روز می کند.\n",
    "</div>\n",
    "</p>\n",
    "<p>\n",
    "<div dir=\"rtl\" style=\"font-family:'B Zar'; font-size:20px;\">\n",
    "    count_tasks: تعداد کل وظایف موجود در پایگاه داده را بازیابی می کند.\n",
    "</div>\n",
    "</p>"
   ]
  },
  {
   "cell_type": "markdown",
   "id": "39dc2cce-6067-4862-94eb-c3ebf987af57",
   "metadata": {},
   "source": [
    "<div style=\"direction:rtl; line-height:2.5; font-family:'B Zar'; font-size:20px;\">\n",
    "</div>\n",
    "<p>\n",
    "<div dir=\"rtl\" style=\"font-family:'B Zar'; font-size:20px;\">\n",
    "    <font color=#ff6600><h3>\n",
    "    3-\tپیش پردازش متن فارسی با hazm <br/></h3>\n",
    "    </font>\n",
    "</div>\n",
    "</p>\n",
    "<p>\n",
    "<div dir=\"rtl\" style=\"font-family:'B Zar'; font-size:20px;\">\n",
    "    نیاز است تا متن ورودی به جمله های معنی دار تبدیل شود و هر جمله به کلمات معنی دار و نقش هر کلمه نیز در متن مشخص شود همچنین نیاز است که نام ها ریشه یابی بشوند. برای داشتن این نیازمندی ها از توابع موجود در کتابخانه hazm استفاده می کنیم.\n",
    "</div>\n",
    "</p>\n",
    "<p>\n",
    "<div dir=\"rtl\" style=\"font-family:'B Zar'; font-size:20px;\">\n",
    "    1-\tNormalizer()\n",
    "</div>\n",
    "</p>\n",
    "<p>\n",
    "<div dir=\"rtl\" style=\"font-family:'B Zar'; font-size:20px;\">\n",
    "    2-\tSentenceTokenizer()\n",
    "</div>\n",
    "</p>\n",
    "<p>\n",
    "<div dir=\"rtl\" style=\"font-family:'B Zar'; font-size:20px;\">\n",
    "    3-\tWordTokenizer()\n",
    "</div>\n",
    "</p>\n",
    "<p>\n",
    "<div dir=\"rtl\" style=\"font-family:'B Zar'; font-size:20px;\">\n",
    "    4-\tPOSTagger()\n",
    "</div>\n",
    "</p>\n",
    "<p>\n",
    "<div dir=\"rtl\" style=\"font-family:'B Zar'; font-size:20px;\">\n",
    "    5-\tStemmer()\n",
    "</div>\n",
    "</p>\n",
    "<p>\n",
    "<div dir=\"rtl\" style=\"font-family:'B Zar'; font-size:20px;\">\n",
    "    6-\tLemmatizer()\n",
    "</div>\n",
    "</p>"
   ]
  },
  {
   "cell_type": "markdown",
   "id": "a48619b0-9407-4893-84b5-c8d6b279f294",
   "metadata": {},
   "source": [
    "<div style=\"direction:rtl; line-height:2.5; font-family:'B Zar'; font-size:20px;\">\n",
    "</div>\n",
    "<p>\n",
    "<div dir=\"rtl\" style=\"font-family:'B Zar'; font-size:20px;\">\n",
    "<font color=#ff6600><h3>   \n",
    "4-\tتعریف pattern ها <br/></h3>\n",
    "    </font>\n",
    "</div>\n",
    "</p>\n",
    "<p>\n",
    "<div dir=\"rtl\" style=\"font-family:'B Zar'; font-size:20px;\">\n",
    "    در فایل pattern.py تعدادی الگو مربوط به استخراج زمان بندی ها و اطلاعات مورد نیاز موجود هست.\n",
    "</div>\n",
    "</p>\n",
    "<p>\n",
    "<div dir=\"rtl\" style=\"font-family:'B Zar'; font-size:20px;\">\n",
    "    ثابت ها:  لیست کلمات فارسی برای ماه ها و ساعات روز تعریف می شود.\n",
    "</div>\n",
    "</p>\n",
    "<p>\n",
    "<div dir=\"rtl\" style=\"font-family:'B Zar'; font-size:20px;\">\n",
    "    تابع تجمع: تابع agg_words کلمات را با یک برچسب خاص در قالب عبارت منظم جمع می کند.\n",
    "</div>\n",
    "</p>\n",
    "<p>\n",
    "<div dir=\"rtl\" style=\"font-family:'B Zar'; font-size:20px;\">\n",
    "    تعاریف کلاس (الگوها):الگوهای بیان منظم مختلفی برای بخش‌های گفتار مانند اسم، صفت، افعال و غیره با استفاده از کلمات فارسی ارائه شده تعریف شده‌اند.\n",
    "</div>\n",
    "</p>\n",
    "<p>\n",
    "<div dir=\"rtl\" style=\"font-family:'B Zar'; font-size:20px;\">\n",
    "    الگوها برای عباراتی مانند تاریخ، زمان، ترکیب تاریخ و زمان و غیره ایجاد می شوند.\n",
    "</div>\n",
    "</p>\n",
    "<p>\n",
    "<div dir=\"rtl\" style=\"font-family:'B Zar'; font-size:20px;\">\n",
    "    کلمات خاص مرتبط با مدیریت کار مانند کلمات وظیفه، کلمات واگذارنده، کلمات شروع، کلمات پایانی و غیره تعریف می شوند.\n",
    "</div>\n",
    "</p>\n",
    "<p>\n",
    "<div dir=\"rtl\" style=\"font-family:'B Zar'; font-size:20px;\">\n",
    "    اعلامیه وظایف:الگوها برای اعلام وظایف، لغو، به روز رسانی، کارهای علامت گذاری شده به عنوان انجام شده و واکشی وظایف تعریف می شوند.\n",
    "</div>\n",
    "</p>\n",
    "<p>\n",
    "<div dir=\"rtl\" style=\"font-family:'B Zar'; font-size:20px;\">\n",
    "    مقداردهی اولیه:کلاس Patterns با ایجاد یک دیکشنری خالی کامپایل شده، مقداردهی اولیه می شود.\n",
    "</div>\n",
    "</p>\n",
    "<p>\n",
    "<div dir=\"rtl\" style=\"font-family:'B Zar'; font-size:20px;\">\n",
    "    بازیابی الگوی مدیریت:روش __getitem__ امکان بازیابی الگوهای عبارت منظم کامپایل شده برای یک کلید داده شده را می دهد.\n",
    "</div>\n",
    "</p>\n",
    "<p>\n",
    "<div dir=\"rtl\" style=\"font-family:'B Zar'; font-size:20px;\">\n",
    "    اگر الگو از قبل کامپایل نشده باشد، از MixedRegexpParser برای کامپایل آن استفاده می کند.\n",
    "</div>\n",
    "</p>"
   ]
  },
  {
   "cell_type": "markdown",
   "id": "00370c95-7e9d-4a24-94f0-7212f097307e",
   "metadata": {},
   "source": [
    "<div style=\"direction:rtl; line-height:2.5; font-family:'B Zar'; font-size:20px;\">\n",
    "</div>\n",
    "<p>\n",
    "<div dir=\"rtl\" style=\"font-family:'B Zar'; font-size:20px;\">\n",
    "<font color=#ff6600><h3>\n",
    "    5-\tاتصال پایگاه داده به کد استخراج الگوها <br/></h3>\n",
    "    </font>\n",
    "</div>\n",
    "</p>\n",
    "<p>\n",
    "<div dir=\"rtl\" style=\"font-family:'B Zar'; font-size:20px;\">\n",
    "    فایل extractor.py که شامل کلاس ها و توابع مربوط به استخراج و دستکاری تسک ها و ارتباط آن ها با پایگاه داده است. در اینجا خلاصه ای از آنچه که کد انجام می دهد آورده شده است:\n",
    "</div>\n",
    "</p>\n",
    "<p>\n",
    "<div dir=\"rtl\" style=\"font-family:'B Zar'; font-size:20px;\">\n",
    "    1.\tعملکرد **`reform_chunker_array**: این تابع کلمات برچسب گذاری شده را از متن بر اساس یک الگوی داده شده استخراج می کند و آنها را در یک لیست بر می گرداند.\n",
    "</div>\n",
    "</p>\n",
    "<p>\n",
    "<div dir=\"rtl\" style=\"font-family:'B Zar'; font-size:20px;\">\n",
    "    2.\t**'Task' Class**: یک کلاس ساده را تعریف می کند که نشان دهنده یک کار با ویژگی هایی مانند نام، دوره، زمان، تاریخ، وضعیت انجام شده و وضعیت لغو است.\n",
    "</div>\n",
    "</p>\n",
    "<p>\n",
    "<div dir=\"rtl\" style=\"font-family:'B Zar'; font-size:20px;\">\n",
    "    3.\t** Task Parsing**: عناصر خاصی مانند تاریخ، دوره و زمان را از گروه‌های کلمات برچسب‌گذاری شده استخراج می‌کنند.\n",
    "</div>\n",
    "</p>\n",
    "<p>\n",
    "<div dir=\"rtl\" style=\"font-family:'B Zar'; font-size:20px;\">\n",
    "    4.\t** کلاس «TaskExtractor» **: این کلاس شامل روش های مختلفی برای تجزیه تسک از متن است:   \n",
    "</div>\n",
    "</p>\n",
    "<p>\n",
    "<div dir=\"rtl\" style=\"font-family:'B Zar'; font-size:20px;\">\n",
    "    5.\t\"check_for_tasks\": بررسی می کند که آیا نام کار از قبل وجود دارد یا خیر.\n",
    "</div>\n",
    "</p>\n",
    "<p>\n",
    "<div dir=\"rtl\" style=\"font-family:'B Zar'; font-size:20px;\">\n",
    "    6.\t \"parse_task_name\"، \"parse_name\": نام وظایف را بر اساس الگوهای خاصی که در متن یافت می شود، تجزیه کنید.\n",
    "</div>\n",
    "</p>\n",
    "<p>\n",
    "<div dir=\"rtl\" style=\"font-family:'B Zar'; font-size:20px;\">\n",
    "    7.\t\"run\": این روش متن ورودی را نشانه گذاری می کند، آن را پردازش می کند و تلاش می کند تا وظایف را بر اساس الگوهای از پیش تعریف شده استخراج کند.\n",
    "</div>\n",
    "</p>\n",
    "<p>\n",
    "<div dir=\"rtl\" style=\"font-family:'B Zar'; font-size:20px;\">\n",
    "    8.\t**عملیات پایگاه داده**: کلاس «TaskExtractor» با یک نمونه «TaskDB» برای مدیریت وظایف در پایگاه داده تعامل دارد. توابعی مانند «create_task»، «find_task»، «update_task»، «find_all»، «count_tasks» برای عملیات پایگاه داده استفاده می شود.\n",
    "</div>\n",
    "</p>\n",
    "<p>\n",
    "<div dir=\"rtl\" style=\"font-family:'B Zar'; font-size:20px;\">\n",
    "    9.\tروش **`parse_edition**: وظایف را بر اساس تغییرات مشخص شده مانند علامت گذاری یک کار به عنوان انجام شده، لغو شده یا به روز رسانی زمان آن به روز می کند.\n",
    "</div>\n",
    "</p>\n",
    "<p>\n",
    "<div dir=\"rtl\" style=\"font-family:'B Zar'; font-size:20px;\">\n",
    "    10.\tروش **`get_tasks`**: همه وظایف را از پایگاه داده بازیابی می کند.\n",
    "</div>\n",
    "</p>"
   ]
  },
  {
   "cell_type": "markdown",
   "id": "05f37021-670c-45c0-863e-6f56f7009acc",
   "metadata": {},
   "source": [
    "<div style=\"direction:rtl; line-height:2.5; font-family:'B Zar'; font-size:20px;\">\n",
    "<p>\n",
    "<div dir=\"rtl\" style=\"font-family:'B Zar'; font-size:20px;\">\n",
    "<font color=#ff6600><h3>\n",
    "    6-\tنتایج <br/></h3>\n",
    "    </font>\n",
    "</div>\n",
    "</p>"
   ]
  },
  {
   "cell_type": "code",
   "execution_count": null,
   "id": "eeacc0e8",
   "metadata": {},
   "outputs": [],
   "source": [
    "!pip install hazm\n",
    "!pip install persiantools"
   ]
  },
  {
   "cell_type": "markdown",
   "id": "29fe4cf6",
   "metadata": {},
   "source": [
    "<div style=\"direction:rtl;line-height:300%;\"><font face=\"B Zar\" size=5>\n",
    "<font color=#ff6600><h4>\n",
    "    افزودن:\n",
    "</h4></font>\n",
    "    با یاری فرمان‌های زیر، می‌توانیم یک دستور را ایجاد کنیم:\n",
    "<ul>\n",
    "<li>یادم باشه که به ...\n",
    "<li>حواسم باشه که ...\n",
    "<li>خاطرم باشه که ...\n",
    "    <li> نیاز به یاداوری دارم که ...\n",
    "</ul>\n",
    "<div align=center>\n",
    "</div>    "
   ]
  },
  {
   "cell_type": "code",
   "execution_count": 1,
   "id": "3da17f11",
   "metadata": {},
   "outputs": [],
   "source": [
    "from task_extractor.extractor import TaskExtractor\n",
    "extractor = TaskExtractor()"
   ]
  },
  {
   "cell_type": "code",
   "execution_count": 2,
   "id": "e53b0af4",
   "metadata": {},
   "outputs": [],
   "source": [
    "extractor.run('یادم باشه امروز ساعت 8 به حل تمرین بپردازم.')"
   ]
  },
  {
   "cell_type": "code",
   "execution_count": 3,
   "id": "92efae9e",
   "metadata": {},
   "outputs": [
    {
     "data": {
      "text/plain": [
       "[{\n",
       "     \"name\": \"به حل تمرین پرداختن\",\n",
       "     \"period\": \"امروز\",\n",
       "     \"time\": \"ساعت ۸\",\n",
       "     \"date\": \"1403-2-28\",\n",
       "     \"done\": false,\n",
       "     \"cancel\": false\n",
       " }]"
      ]
     },
     "execution_count": 3,
     "metadata": {},
     "output_type": "execute_result"
    }
   ],
   "source": [
    "extractor.run('برنامه هفتگی‌ام را نشان بده.')"
   ]
  },
  {
   "cell_type": "markdown",
   "id": "ac0ff39a",
   "metadata": {},
   "source": [
    "<div style=\"direction:rtl;line-height:300%;\"><font face=\"B Zar\" size=5>\n",
    "<font color=#ff6600>\n",
    "</font>\n",
    "همانطور که مشاهده می‌شود، برای امروز یک برنامه‌ی جدید تعریف شده است. حال می‌توان به‌روزرسانی انجام داد.\n",
    "<p></p>\n",
    "</font>\n",
    "</div>"
   ]
  },
  {
   "cell_type": "code",
   "execution_count": 4,
   "id": "c71a7efe",
   "metadata": {},
   "outputs": [],
   "source": [
    "extractor.run('کار به حل تمرین پرداختن لغو شد')"
   ]
  },
  {
   "cell_type": "code",
   "execution_count": 5,
   "id": "09690fa5",
   "metadata": {},
   "outputs": [
    {
     "data": {
      "text/plain": [
       "[{\n",
       "     \"name\": \"به حل تمرین پرداختن\",\n",
       "     \"period\": \"امروز\",\n",
       "     \"time\": \"ساعت ۸\",\n",
       "     \"date\": \"1403-2-28\",\n",
       "     \"done\": false,\n",
       "     \"cancel\": true\n",
       " }]"
      ]
     },
     "execution_count": 5,
     "metadata": {},
     "output_type": "execute_result"
    }
   ],
   "source": [
    "extractor.run('برنامه هفتگی‌ام را نشان بده.')"
   ]
  },
  {
   "cell_type": "code",
   "execution_count": 6,
   "id": "fba1887a",
   "metadata": {},
   "outputs": [],
   "source": [
    "extractor.run('نیاز به یاداوری دارم که فردا ساعت 8:30 به علی زنگ بزنم.')"
   ]
  },
  {
   "cell_type": "code",
   "execution_count": 7,
   "id": "ccf37fe4",
   "metadata": {
    "scrolled": true
   },
   "outputs": [
    {
     "data": {
      "text/plain": [
       "[{\n",
       "     \"name\": \"به حل تمرین پرداختن\",\n",
       "     \"period\": \"امروز\",\n",
       "     \"time\": \"ساعت ۸\",\n",
       "     \"date\": \"1403-2-28\",\n",
       "     \"done\": false,\n",
       "     \"cancel\": true\n",
       " },\n",
       " {\n",
       "     \"name\": \"به علی زنگ زدن\",\n",
       "     \"period\": \"فردا\",\n",
       "     \"time\": \"ساعت ۸:۳۰\",\n",
       "     \"date\": \"1403-2-29\",\n",
       "     \"done\": false,\n",
       "     \"cancel\": false\n",
       " }]"
      ]
     },
     "execution_count": 7,
     "metadata": {},
     "output_type": "execute_result"
    }
   ],
   "source": [
    "extractor.run('برنامه هفتگی‌ام را نشان بده.')"
   ]
  },
  {
   "cell_type": "markdown",
   "id": "e9fc0334",
   "metadata": {},
   "source": [
    "<div style=\"direction:rtl;line-height:300%;\"><font face=\"B Zar\" size=5>\n",
    "<font color=#ff6600>\n",
    "</font>\n",
    "همچنین، می‌توان چند کار را با همدیگر انجام داد.\n",
    "<p></p>\n",
    "</font>\n",
    "</div>"
   ]
  },
  {
   "cell_type": "code",
   "execution_count": 9,
   "id": "63f32cc8",
   "metadata": {},
   "outputs": [
    {
     "data": {
      "text/plain": [
       "[{\n",
       "     \"name\": \"به حل تمرین پرداختن\",\n",
       "     \"period\": \"امروز\",\n",
       "     \"time\": \"ساعت ۸\",\n",
       "     \"date\": \"1403-2-28\",\n",
       "     \"done\": false,\n",
       "     \"cancel\": true\n",
       " },\n",
       " {\n",
       "     \"name\": \"به علی زنگ زدن\",\n",
       "     \"period\": \"فردا\",\n",
       "     \"time\": \"ساعت ۸:۳۰\",\n",
       "     \"date\": \"1403-2-29\",\n",
       "     \"done\": false,\n",
       "     \"cancel\": false\n",
       " },\n",
       " {\n",
       "     \"name\": \"به باشگاه رفتن\",\n",
       "     \"period\": \"امروز\",\n",
       "     \"time\": \"ساعت ۷\",\n",
       "     \"date\": \"1403-2-28\",\n",
       "     \"done\": false,\n",
       "     \"cancel\": false\n",
       " },\n",
       " {\n",
       "     \"name\": \"به باشگاه رفتن\",\n",
       "     \"period\": \"امروز\",\n",
       "     \"time\": \"ساعت ۷\",\n",
       "     \"date\": \"1403-2-28\",\n",
       "     \"done\": false,\n",
       "     \"cancel\": false\n",
       " }]"
      ]
     },
     "execution_count": 9,
     "metadata": {},
     "output_type": "execute_result"
    }
   ],
   "source": [
    "extractor.run('یادم باشه امروز ساعت 7 به باشگاه بروم. برنامه هفتگی‌ام را نشان بده.')"
   ]
  },
  {
   "cell_type": "markdown",
   "id": "a0578ea1",
   "metadata": {},
   "source": [
    "<div style=\"direction:rtl;line-height:300%;\"><font face=\"B Zar\" size=5>\n",
    "<font color=#ff6600>\n",
    "</font>\n",
    "برای انجام شدن کار نیز می‌توان دستور زیر را نوشت:\n",
    "<p></p>\n",
    "</font>\n",
    "</div>"
   ]
  },
  {
   "cell_type": "code",
   "execution_count": 11,
   "id": "fe1d89a6",
   "metadata": {},
   "outputs": [
    {
     "data": {
      "text/plain": [
       "[{\n",
       "     \"name\": \"به حل تمرین پرداختن\",\n",
       "     \"period\": \"امروز\",\n",
       "     \"time\": \"ساعت ۸\",\n",
       "     \"date\": \"1403-2-28\",\n",
       "     \"done\": false,\n",
       "     \"cancel\": true\n",
       " },\n",
       " {\n",
       "     \"name\": \"به علی زنگ زدن\",\n",
       "     \"period\": \"فردا\",\n",
       "     \"time\": \"ساعت ۸:۳۰\",\n",
       "     \"date\": \"1403-2-29\",\n",
       "     \"done\": false,\n",
       "     \"cancel\": false\n",
       " },\n",
       " {\n",
       "     \"name\": \"به باشگاه رفتن\",\n",
       "     \"period\": \"امروز\",\n",
       "     \"time\": null,\n",
       "     \"date\": null,\n",
       "     \"done\": true,\n",
       "     \"cancel\": false\n",
       " },\n",
       " {\n",
       "     \"name\": \"به باشگاه رفتن\",\n",
       "     \"period\": \"امروز\",\n",
       "     \"time\": null,\n",
       "     \"date\": null,\n",
       "     \"done\": true,\n",
       "     \"cancel\": false\n",
       " }]"
      ]
     },
     "execution_count": 11,
     "metadata": {},
     "output_type": "execute_result"
    }
   ],
   "source": [
    "extractor.run('کار به باشگاه رفتن امروز ساعت 7 انجام شد. برنامه هفتگی‌ام را نشان بده.')"
   ]
  }
 ],
 "metadata": {
  "kernelspec": {
   "display_name": "Python 3 (ipykernel)",
   "language": "python",
   "name": "python3"
  },
  "language_info": {
   "codemirror_mode": {
    "name": "ipython",
    "version": 3
   },
   "file_extension": ".py",
   "mimetype": "text/x-python",
   "name": "python",
   "nbconvert_exporter": "python",
   "pygments_lexer": "ipython3",
   "version": "3.11.5"
  }
 },
 "nbformat": 4,
 "nbformat_minor": 5
}
