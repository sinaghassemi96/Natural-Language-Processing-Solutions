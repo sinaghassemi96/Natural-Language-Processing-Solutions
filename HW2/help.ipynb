{
 "cells": [
  {
   "cell_type": "markdown",
   "id": "c8085f17",
   "metadata": {},
   "source": [
    "<div style=\"direction:rtl;line-height:300%;\"><font face=\"B Zar\" size=5>\n",
    "    حل تمرین دوم\n",
    "<font color=#ff6600><h3>\n",
    "مدیریت رویدادها و وقایع<br/></h3>\n",
    "</font>\n",
    "در این تمرین یک دستیار برای مدیریت رویدادها و وقایع با توانایی افزودن تسک، به‌روزرسانی، لغو و مشاهده‌ی کارهای ثبت‌شده توسعه داده می‌شود. در ابتدا برای مدیریت تاریخ، کتابخانه‌ی <a href=\"https://pypi.org/project/persiantools/#:~:text=Provides%20Jalali%20\">ابزارهای فارسی </a> را نصب می‌کنیم.\n",
    "توجه شود که امکان استفاده از دیتابیس PostgreSQL نیز فراهم است که باید تغییراتی در کد صورت بگیرد.\n",
    "با توجه به اینکه در صورت تمرین در خصوص مدت زمان برنامه‌ریزی برای محاسبه‌ی تسک‌های دوره‌ای صحبتی نشده، مقدار 60 روز انتخاب شده است که می‌توان بعدا به صورت پارامتر به مدل ارائه داد.\n",
    "<p></p>\n",
    "</font>\n",
    "</div>"
   ]
  },
  {
   "cell_type": "code",
   "execution_count": null,
   "id": "eeacc0e8",
   "metadata": {},
   "outputs": [],
   "source": [
    "!pip install hazm\n",
    "!pip install persiantools"
   ]
  },
  {
   "cell_type": "markdown",
   "id": "29fe4cf6",
   "metadata": {},
   "source": [
    "<div style=\"direction:rtl;line-height:300%;\"><font face=\"B Zar\" size=5>\n",
    "<font color=#ff6600><h4>\n",
    "    افزودن:\n",
    "</h4></font>\n",
    "    با یاری فرمان‌های زیر، می‌توانیم یک دستور را ایجاد کنیم:\n",
    "<ul>\n",
    "<li>یادم باشه که به ...\n",
    "<li>حواسم باشه که ...\n",
    "<li>خاطرم باشه که ...\n",
    "    <li> نیاز به یاداوری دارم که ...\n",
    "</ul>\n",
    "<div align=center>\n",
    "</div>    "
   ]
  },
  {
   "cell_type": "code",
   "execution_count": 1,
   "id": "3da17f11",
   "metadata": {},
   "outputs": [],
   "source": [
    "from task_extractor.extractor import TaskExtractor\n",
    "extractor = TaskExtractor()"
   ]
  },
  {
   "cell_type": "code",
   "execution_count": 2,
   "id": "e53b0af4",
   "metadata": {},
   "outputs": [],
   "source": [
    "extractor.run('یادم باشه امروز ساعت 8 به حل تمرین بپردازم.')"
   ]
  },
  {
   "cell_type": "code",
   "execution_count": 3,
   "id": "92efae9e",
   "metadata": {},
   "outputs": [
    {
     "data": {
      "text/plain": [
       "[{\n",
       "     \"name\": \"به حل تمرین پرداختن\",\n",
       "     \"period\": \"امروز\",\n",
       "     \"time\": \"ساعت ۸\",\n",
       "     \"date\": \"1403-2-28\",\n",
       "     \"done\": false,\n",
       "     \"cancel\": false\n",
       " }]"
      ]
     },
     "execution_count": 3,
     "metadata": {},
     "output_type": "execute_result"
    }
   ],
   "source": [
    "extractor.run('برنامه هفتگی‌ام را نشان بده.')"
   ]
  },
  {
   "cell_type": "markdown",
   "id": "ac0ff39a",
   "metadata": {},
   "source": [
    "<div style=\"direction:rtl;line-height:300%;\"><font face=\"B Zar\" size=5>\n",
    "<font color=#ff6600>\n",
    "</font>\n",
    "همانطور که مشاهده می‌شود، برای امروز یک برنامه‌ی جدید تعریف شده است. حال می‌توان به‌روزرسانی انجام داد.\n",
    "<p></p>\n",
    "</font>\n",
    "</div>"
   ]
  },
  {
   "cell_type": "code",
   "execution_count": 4,
   "id": "c71a7efe",
   "metadata": {},
   "outputs": [],
   "source": [
    "extractor.run('کار به حل تمرین پرداختن لغو شد')"
   ]
  },
  {
   "cell_type": "code",
   "execution_count": 5,
   "id": "09690fa5",
   "metadata": {},
   "outputs": [
    {
     "data": {
      "text/plain": [
       "[{\n",
       "     \"name\": \"به حل تمرین پرداختن\",\n",
       "     \"period\": \"امروز\",\n",
       "     \"time\": \"ساعت ۸\",\n",
       "     \"date\": \"1403-2-28\",\n",
       "     \"done\": false,\n",
       "     \"cancel\": true\n",
       " }]"
      ]
     },
     "execution_count": 5,
     "metadata": {},
     "output_type": "execute_result"
    }
   ],
   "source": [
    "extractor.run('برنامه هفتگی‌ام را نشان بده.')"
   ]
  },
  {
   "cell_type": "code",
   "execution_count": 6,
   "id": "fba1887a",
   "metadata": {},
   "outputs": [],
   "source": [
    "extractor.run('نیاز به یاداوری دارم که فردا ساعت 8:30 به علی زنگ بزنم.')"
   ]
  },
  {
   "cell_type": "code",
   "execution_count": 7,
   "id": "ccf37fe4",
   "metadata": {
    "scrolled": true
   },
   "outputs": [
    {
     "data": {
      "text/plain": [
       "[{\n",
       "     \"name\": \"به حل تمرین پرداختن\",\n",
       "     \"period\": \"امروز\",\n",
       "     \"time\": \"ساعت ۸\",\n",
       "     \"date\": \"1403-2-28\",\n",
       "     \"done\": false,\n",
       "     \"cancel\": true\n",
       " },\n",
       " {\n",
       "     \"name\": \"به علی زنگ زدن\",\n",
       "     \"period\": \"فردا\",\n",
       "     \"time\": \"ساعت ۸:۳۰\",\n",
       "     \"date\": \"1403-2-29\",\n",
       "     \"done\": false,\n",
       "     \"cancel\": false\n",
       " }]"
      ]
     },
     "execution_count": 7,
     "metadata": {},
     "output_type": "execute_result"
    }
   ],
   "source": [
    "extractor.run('برنامه هفتگی‌ام را نشان بده.')"
   ]
  },
  {
   "cell_type": "markdown",
   "id": "e9fc0334",
   "metadata": {},
   "source": [
    "<div style=\"direction:rtl;line-height:300%;\"><font face=\"B Zar\" size=5>\n",
    "<font color=#ff6600>\n",
    "</font>\n",
    "همچنین، می‌توان چند کار را با همدیگر انجام داد.\n",
    "<p></p>\n",
    "</font>\n",
    "</div>"
   ]
  },
  {
   "cell_type": "code",
   "execution_count": 9,
   "id": "63f32cc8",
   "metadata": {},
   "outputs": [
    {
     "data": {
      "text/plain": [
       "[{\n",
       "     \"name\": \"به حل تمرین پرداختن\",\n",
       "     \"period\": \"امروز\",\n",
       "     \"time\": \"ساعت ۸\",\n",
       "     \"date\": \"1403-2-28\",\n",
       "     \"done\": false,\n",
       "     \"cancel\": true\n",
       " },\n",
       " {\n",
       "     \"name\": \"به علی زنگ زدن\",\n",
       "     \"period\": \"فردا\",\n",
       "     \"time\": \"ساعت ۸:۳۰\",\n",
       "     \"date\": \"1403-2-29\",\n",
       "     \"done\": false,\n",
       "     \"cancel\": false\n",
       " },\n",
       " {\n",
       "     \"name\": \"به باشگاه رفتن\",\n",
       "     \"period\": \"امروز\",\n",
       "     \"time\": \"ساعت ۷\",\n",
       "     \"date\": \"1403-2-28\",\n",
       "     \"done\": false,\n",
       "     \"cancel\": false\n",
       " },\n",
       " {\n",
       "     \"name\": \"به باشگاه رفتن\",\n",
       "     \"period\": \"امروز\",\n",
       "     \"time\": \"ساعت ۷\",\n",
       "     \"date\": \"1403-2-28\",\n",
       "     \"done\": false,\n",
       "     \"cancel\": false\n",
       " }]"
      ]
     },
     "execution_count": 9,
     "metadata": {},
     "output_type": "execute_result"
    }
   ],
   "source": [
    "extractor.run('یادم باشه امروز ساعت 7 به باشگاه بروم. برنامه هفتگی‌ام را نشان بده.')"
   ]
  },
  {
   "cell_type": "markdown",
   "id": "a0578ea1",
   "metadata": {},
   "source": [
    "<div style=\"direction:rtl;line-height:300%;\"><font face=\"B Zar\" size=5>\n",
    "<font color=#ff6600>\n",
    "</font>\n",
    "برای انجام شدن کار نیز می‌توان دستور زیر را نوشت:\n",
    "<p></p>\n",
    "</font>\n",
    "</div>"
   ]
  },
  {
   "cell_type": "code",
   "execution_count": 11,
   "id": "fe1d89a6",
   "metadata": {},
   "outputs": [
    {
     "data": {
      "text/plain": [
       "[{\n",
       "     \"name\": \"به حل تمرین پرداختن\",\n",
       "     \"period\": \"امروز\",\n",
       "     \"time\": \"ساعت ۸\",\n",
       "     \"date\": \"1403-2-28\",\n",
       "     \"done\": false,\n",
       "     \"cancel\": true\n",
       " },\n",
       " {\n",
       "     \"name\": \"به علی زنگ زدن\",\n",
       "     \"period\": \"فردا\",\n",
       "     \"time\": \"ساعت ۸:۳۰\",\n",
       "     \"date\": \"1403-2-29\",\n",
       "     \"done\": false,\n",
       "     \"cancel\": false\n",
       " },\n",
       " {\n",
       "     \"name\": \"به باشگاه رفتن\",\n",
       "     \"period\": \"امروز\",\n",
       "     \"time\": null,\n",
       "     \"date\": null,\n",
       "     \"done\": true,\n",
       "     \"cancel\": false\n",
       " },\n",
       " {\n",
       "     \"name\": \"به باشگاه رفتن\",\n",
       "     \"period\": \"امروز\",\n",
       "     \"time\": null,\n",
       "     \"date\": null,\n",
       "     \"done\": true,\n",
       "     \"cancel\": false\n",
       " }]"
      ]
     },
     "execution_count": 11,
     "metadata": {},
     "output_type": "execute_result"
    }
   ],
   "source": [
    "extractor.run('کار به باشگاه رفتن امروز ساعت 7 انجام شد. برنامه هفتگی‌ام را نشان بده.')"
   ]
  }
 ],
 "metadata": {
  "kernelspec": {
   "display_name": "Python 3 (ipykernel)",
   "language": "python",
   "name": "python3"
  },
  "language_info": {
   "codemirror_mode": {
    "name": "ipython",
    "version": 3
   },
   "file_extension": ".py",
   "mimetype": "text/x-python",
   "name": "python",
   "nbconvert_exporter": "python",
   "pygments_lexer": "ipython3",
   "version": "3.11.5"
  }
 },
 "nbformat": 4,
 "nbformat_minor": 5
}
