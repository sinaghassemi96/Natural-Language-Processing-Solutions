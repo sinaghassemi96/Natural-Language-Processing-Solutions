{
 "cells": [
  {
   "cell_type": "code",
   "execution_count": null,
   "metadata": {},
   "outputs": [],
   "source": [
    "!pip install hazm\n",
    "!pip install persiantools"
   ]
  },
  {
   "cell_type": "code",
   "execution_count": 1,
   "metadata": {
    "ExecuteTime": {
     "end_time": "2024-05-17T12:34:57.669552800Z",
     "start_time": "2024-05-17T12:34:53.425350400Z"
    }
   },
   "outputs": [
    {
     "name": "stdout",
     "output_type": "stream",
     "text": [
      "[]\n"
     ]
    }
   ],
   "source": [
    "from task_extractor.extractor import TaskExtractor\n",
    "\n",
    "text = '''\n",
    "باید تسک حل تمرین دوم درس را در یک آذر شروع کنیم و تا ده آذر تمام کنیم.\n",
    "برای اینکار باید اول موضوع را مشخص کنیم و بعد پیاده‌سازی را انجام دهیم.\n",
    "افراد مسئول حل این تمرین آرش و ریحانه هستن.\n",
    "ددلاین تسک به 15 آذر منتقل شد.\n",
    "تسک حل تمرین دوم درس تمام شد.\n",
    "'''\n",
    "extractor = TaskExtractor()\n",
    "extractor.run(text)\n",
    "print(extractor.tasks)"
   ]
  },
  {
   "cell_type": "code",
   "execution_count": 33,
   "metadata": {},
   "outputs": [
    {
     "name": "stderr",
     "output_type": "stream",
     "text": [
      "test_declare_assignment_end (test.TestTaskExtractor) ... ok\n",
      "test_declare_assignment_first (test.TestTaskExtractor) ... ok\n",
      "test_declare_end_only (test.TestTaskExtractor) ... ok\n",
      "test_default (test.TestTaskExtractor) ... ok\n",
      "test_subtask_multiple (test.TestTaskExtractor) ... ok\n",
      "\n",
      "----------------------------------------------------------------------\n",
      "Ran 5 tests in 0.045s\n",
      "\n",
      "OK\n"
     ]
    }
   ],
   "source": [
    "!python -m unittest test -v"
   ]
  }
 ],
 "metadata": {
  "kernelspec": {
   "display_name": "Python 3",
   "language": "python",
   "name": "python3"
  },
  "language_info": {
   "codemirror_mode": {
    "name": "ipython",
    "version": 3
   },
   "file_extension": ".py",
   "mimetype": "text/x-python",
   "name": "python",
   "nbconvert_exporter": "python",
   "pygments_lexer": "ipython3",
   "version": "3.9.13"
  }
 },
 "nbformat": 4,
 "nbformat_minor": 2
}
